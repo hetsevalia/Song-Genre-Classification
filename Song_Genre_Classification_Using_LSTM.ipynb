{
  "metadata": {
    "kaggle": {
      "accelerator": "nvidiaTeslaT4",
      "dataSources": [
        {
          "sourceId": 9353356,
          "sourceType": "datasetVersion",
          "datasetId": 5669969
        },
        {
          "sourceId": 9366260,
          "sourceType": "datasetVersion",
          "datasetId": 5679777
        }
      ],
      "dockerImageVersionId": 30776,
      "isInternetEnabled": true,
      "language": "python",
      "sourceType": "notebook",
      "isGpuEnabled": true
    },
    "kernelspec": {
      "display_name": "Python 3",
      "language": "python",
      "name": "python3"
    },
    "language_info": {
      "codemirror_mode": {
        "name": "ipython",
        "version": 3
      },
      "file_extension": ".py",
      "mimetype": "text/x-python",
      "name": "python",
      "nbconvert_exporter": "python",
      "pygments_lexer": "ipython3",
      "version": "3.10.14"
    },
    "colab": {
      "provenance": []
    }
  },
  "nbformat_minor": 0,
  "nbformat": 4,
  "cells": [
    {
      "cell_type": "code",
      "source": [
        "# Import necessary libraries\n",
        "import pandas as pd\n",
        "import numpy as np\n",
        "from sklearn.preprocessing import LabelEncoder\n",
        "from sklearn.model_selection import train_test_split, KFold\n",
        "from sklearn.metrics import classification_report, confusion_matrix\n",
        "import seaborn as sns\n",
        "import matplotlib.pyplot as plt\n",
        "import nltk\n",
        "import re\n",
        "import tensorflow as tf\n",
        "from nltk.corpus import stopwords\n",
        "from nltk.tokenize import word_tokenize\n",
        "from nltk.stem import WordNetLemmatizer\n",
        "from tensorflow.keras.preprocessing.text import Tokenizer\n",
        "from tensorflow.keras.preprocessing.sequence import pad_sequences\n",
        "from tensorflow.keras.models import Sequential\n",
        "from tensorflow.keras.layers import Embedding, LSTM, Dense"
      ],
      "metadata": {
        "execution": {
          "iopub.status.busy": "2024-09-24T05:37:39.013409Z",
          "iopub.execute_input": "2024-09-24T05:37:39.013799Z",
          "iopub.status.idle": "2024-09-24T05:37:52.248140Z",
          "shell.execute_reply.started": "2024-09-24T05:37:39.013759Z",
          "shell.execute_reply": "2024-09-24T05:37:52.247134Z"
        },
        "trusted": true,
        "id": "Ynr8RD_b-tqY"
      },
      "execution_count": 1,
      "outputs": []
    },
    {
      "cell_type": "code",
      "source": [
        "train_data = pd.read_csv(r'/kaggle/input/genre-classification/train.csv')"
      ],
      "metadata": {
        "execution": {
          "iopub.status.busy": "2024-09-24T05:37:58.739304Z",
          "iopub.execute_input": "2024-09-24T05:37:58.740543Z",
          "iopub.status.idle": "2024-09-24T05:38:05.503595Z",
          "shell.execute_reply.started": "2024-09-24T05:37:58.740490Z",
          "shell.execute_reply": "2024-09-24T05:38:05.502795Z"
        },
        "trusted": true,
        "id": "tFPW4hHk-tqZ"
      },
      "execution_count": null,
      "outputs": []
    },
    {
      "cell_type": "code",
      "source": [
        "train_data['Genre'].unique()"
      ],
      "metadata": {
        "execution": {
          "iopub.execute_input": "2024-09-12T17:46:04.898833Z",
          "iopub.status.busy": "2024-09-12T17:46:04.898284Z",
          "iopub.status.idle": "2024-09-12T17:46:04.934406Z",
          "shell.execute_reply": "2024-09-12T17:46:04.933292Z",
          "shell.execute_reply.started": "2024-09-12T17:46:04.898775Z"
        },
        "trusted": true,
        "id": "WOEE2ow6-tqZ"
      },
      "execution_count": null,
      "outputs": []
    },
    {
      "cell_type": "code",
      "source": [
        "train_data['Genre'] = train_data['Genre'].str.replace('Hip-Hop', 'HipHop')"
      ],
      "metadata": {
        "execution": {
          "iopub.execute_input": "2024-09-12T17:46:04.936060Z",
          "iopub.status.busy": "2024-09-12T17:46:04.935690Z",
          "iopub.status.idle": "2024-09-12T17:46:05.063893Z",
          "shell.execute_reply": "2024-09-12T17:46:05.062769Z",
          "shell.execute_reply.started": "2024-09-12T17:46:04.936022Z"
        },
        "trusted": true,
        "id": "EETIu-7U-tqZ"
      },
      "execution_count": null,
      "outputs": []
    },
    {
      "cell_type": "code",
      "source": [
        "train_data['Genre'].unique()"
      ],
      "metadata": {
        "execution": {
          "iopub.execute_input": "2024-09-12T17:46:05.065775Z",
          "iopub.status.busy": "2024-09-12T17:46:05.065350Z",
          "iopub.status.idle": "2024-09-12T17:46:05.100242Z",
          "shell.execute_reply": "2024-09-12T17:46:05.099165Z",
          "shell.execute_reply.started": "2024-09-12T17:46:05.065717Z"
        },
        "trusted": true,
        "id": "nfGdJKKG-tqa"
      },
      "execution_count": null,
      "outputs": []
    },
    {
      "cell_type": "code",
      "source": [
        "genres = ['Rock', 'Jazz', 'HipHop', 'Metal', 'Country']"
      ],
      "metadata": {
        "execution": {
          "iopub.execute_input": "2024-09-12T17:46:05.101878Z",
          "iopub.status.busy": "2024-09-12T17:46:05.101499Z",
          "iopub.status.idle": "2024-09-12T17:46:05.107648Z",
          "shell.execute_reply": "2024-09-12T17:46:05.106323Z",
          "shell.execute_reply.started": "2024-09-12T17:46:05.101840Z"
        },
        "trusted": true,
        "id": "HdFKEeoi-tqa"
      },
      "execution_count": null,
      "outputs": []
    },
    {
      "cell_type": "code",
      "source": [
        "stop_words = set(stopwords.words('english'))\n",
        "lemmatizer = WordNetLemmatizer()"
      ],
      "metadata": {
        "execution": {
          "iopub.execute_input": "2024-09-12T17:46:05.109619Z",
          "iopub.status.busy": "2024-09-12T17:46:05.109221Z",
          "iopub.status.idle": "2024-09-12T17:46:05.118625Z",
          "shell.execute_reply": "2024-09-12T17:46:05.117667Z",
          "shell.execute_reply.started": "2024-09-12T17:46:05.109564Z"
        },
        "trusted": true,
        "id": "UFiQTH3a-tqa"
      },
      "execution_count": null,
      "outputs": []
    },
    {
      "cell_type": "code",
      "source": [
        "def preprocess_text(text):\n",
        "    text = re.sub(r'\\@w+|\\#','', text)\n",
        "    text = re.sub(r'[^A-Za-z\\s]', '', text)\n",
        "    text = text.lower()\n",
        "    tokens = word_tokenize(text)\n",
        "    tokens = [lemmatizer.lemmatize(word) for word in tokens if word not in stop_words]\n",
        "    return ' '.join(tokens)"
      ],
      "metadata": {
        "execution": {
          "iopub.execute_input": "2024-09-12T17:46:05.120769Z",
          "iopub.status.busy": "2024-09-12T17:46:05.120266Z",
          "iopub.status.idle": "2024-09-12T17:46:05.127357Z",
          "shell.execute_reply": "2024-09-12T17:46:05.126207Z",
          "shell.execute_reply.started": "2024-09-12T17:46:05.120701Z"
        },
        "trusted": true,
        "id": "uktG3a5z-tqa"
      },
      "execution_count": null,
      "outputs": []
    },
    {
      "cell_type": "code",
      "source": [
        "import nltk\n",
        "nltk.download('wordnet')\n",
        "nltk.download('omw-1.4')  # This is often needed for multilingual support\n",
        "nltk.download('punkt')    # tokenizers\n",
        "nltk.download('stopwords') # stopwords\n"
      ],
      "metadata": {
        "execution": {
          "iopub.execute_input": "2024-09-12T17:46:05.129277Z",
          "iopub.status.busy": "2024-09-12T17:46:05.128850Z",
          "iopub.status.idle": "2024-09-12T17:46:05.343370Z",
          "shell.execute_reply": "2024-09-12T17:46:05.342275Z",
          "shell.execute_reply.started": "2024-09-12T17:46:05.129227Z"
        },
        "trusted": true,
        "colab": {
          "base_uri": "https://localhost:8080/"
        },
        "id": "sABIz68o-tqa",
        "outputId": "e62310ea-ece4-4b19-8a08-2f3b247e7fa9"
      },
      "execution_count": 2,
      "outputs": [
        {
          "output_type": "stream",
          "name": "stderr",
          "text": [
            "[nltk_data] Downloading package wordnet to /root/nltk_data...\n",
            "[nltk_data] Downloading package omw-1.4 to /root/nltk_data...\n",
            "[nltk_data] Downloading package punkt to /root/nltk_data...\n",
            "[nltk_data]   Unzipping tokenizers/punkt.zip.\n",
            "[nltk_data] Downloading package stopwords to /root/nltk_data...\n",
            "[nltk_data]   Unzipping corpora/stopwords.zip.\n"
          ]
        },
        {
          "output_type": "execute_result",
          "data": {
            "text/plain": [
              "True"
            ]
          },
          "metadata": {},
          "execution_count": 2
        }
      ]
    },
    {
      "cell_type": "code",
      "source": [
        "train_data = train_data[(train_data['Genre'].isin(genres)) & (train_data['Language'] == 'en')]\n",
        "train_data['Lyrics'] = train_data['Lyrics'].apply(preprocess_text)"
      ],
      "metadata": {
        "execution": {
          "iopub.execute_input": "2024-09-12T17:48:52.469674Z",
          "iopub.status.busy": "2024-09-12T17:48:52.469277Z",
          "iopub.status.idle": "2024-09-12T17:54:51.838672Z",
          "shell.execute_reply": "2024-09-12T17:54:51.837616Z",
          "shell.execute_reply.started": "2024-09-12T17:48:52.469637Z"
        },
        "trusted": true,
        "id": "3T0UjGn_-tqb"
      },
      "execution_count": null,
      "outputs": []
    },
    {
      "cell_type": "code",
      "source": [
        "train_data.to_csv('/kaggle/input/genre-classification/cleaned_train_data.csv')"
      ],
      "metadata": {
        "id": "mEhrQQyV-tqb"
      },
      "execution_count": null,
      "outputs": []
    },
    {
      "cell_type": "code",
      "source": [
        "train_data = pd.read_csv('/kaggle/input/genre-classification/cleaned_train_data.csv')"
      ],
      "metadata": {
        "execution": {
          "iopub.status.busy": "2024-09-24T05:51:08.681622Z",
          "iopub.execute_input": "2024-09-24T05:51:08.682069Z",
          "iopub.status.idle": "2024-09-24T05:51:09.887054Z",
          "shell.execute_reply.started": "2024-09-24T05:51:08.682019Z",
          "shell.execute_reply": "2024-09-24T05:51:09.885810Z"
        },
        "trusted": true,
        "id": "XHaSuX31-tqb"
      },
      "execution_count": null,
      "outputs": []
    },
    {
      "cell_type": "code",
      "source": [
        "train_data.head()"
      ],
      "metadata": {
        "execution": {
          "iopub.status.busy": "2024-09-24T05:51:12.569444Z",
          "iopub.execute_input": "2024-09-24T05:51:12.570454Z",
          "iopub.status.idle": "2024-09-24T05:51:12.580831Z",
          "shell.execute_reply.started": "2024-09-24T05:51:12.570398Z",
          "shell.execute_reply": "2024-09-24T05:51:12.579963Z"
        },
        "trusted": true,
        "id": "z9t6dNTp-tqb",
        "outputId": "828d02f7-2141-4f87-95a3-1a6f8da0d688"
      },
      "execution_count": null,
      "outputs": [
        {
          "execution_count": 20,
          "output_type": "execute_result",
          "data": {
            "text/plain": "                                              Lyrics Genre\n0  start pain followed hate fueled endless questi...  Rock\n1  freedom alone alone patiently waiting phone ho...  Rock\n2  biting hand feed lying voice inside reach beg ...  Rock\n3  say know cant imagine wait across line thought...  Rock\n4  heart beating faster cant control feeling anym...  Rock",
            "text/html": "<div>\n<style scoped>\n    .dataframe tbody tr th:only-of-type {\n        vertical-align: middle;\n    }\n\n    .dataframe tbody tr th {\n        vertical-align: top;\n    }\n\n    .dataframe thead th {\n        text-align: right;\n    }\n</style>\n<table border=\"1\" class=\"dataframe\">\n  <thead>\n    <tr style=\"text-align: right;\">\n      <th></th>\n      <th>Lyrics</th>\n      <th>Genre</th>\n    </tr>\n  </thead>\n  <tbody>\n    <tr>\n      <th>0</th>\n      <td>start pain followed hate fueled endless questi...</td>\n      <td>Rock</td>\n    </tr>\n    <tr>\n      <th>1</th>\n      <td>freedom alone alone patiently waiting phone ho...</td>\n      <td>Rock</td>\n    </tr>\n    <tr>\n      <th>2</th>\n      <td>biting hand feed lying voice inside reach beg ...</td>\n      <td>Rock</td>\n    </tr>\n    <tr>\n      <th>3</th>\n      <td>say know cant imagine wait across line thought...</td>\n      <td>Rock</td>\n    </tr>\n    <tr>\n      <th>4</th>\n      <td>heart beating faster cant control feeling anym...</td>\n      <td>Rock</td>\n    </tr>\n  </tbody>\n</table>\n</div>"
          },
          "metadata": {}
        }
      ]
    },
    {
      "cell_type": "code",
      "source": [
        "train_data['Genre'].unique()"
      ],
      "metadata": {
        "execution": {
          "iopub.status.busy": "2024-09-24T05:51:16.052780Z",
          "iopub.execute_input": "2024-09-24T05:51:16.053181Z",
          "iopub.status.idle": "2024-09-24T05:51:16.071043Z",
          "shell.execute_reply.started": "2024-09-24T05:51:16.053141Z",
          "shell.execute_reply": "2024-09-24T05:51:16.069962Z"
        },
        "trusted": true,
        "id": "DTTxrAha-tqc",
        "outputId": "84e83d46-c314-4bc2-eecd-41e53c7caa86"
      },
      "execution_count": null,
      "outputs": [
        {
          "execution_count": 21,
          "output_type": "execute_result",
          "data": {
            "text/plain": "array(['Rock', 'Metal', 'Jazz', 'HipHop', 'Country'], dtype=object)"
          },
          "metadata": {}
        }
      ]
    },
    {
      "cell_type": "code",
      "source": [
        "label_encoder = LabelEncoder()\n",
        "train_data['Genre'] = label_encoder.fit_transform(train_data['Genre'])"
      ],
      "metadata": {
        "execution": {
          "iopub.status.busy": "2024-09-24T05:51:20.513363Z",
          "iopub.execute_input": "2024-09-24T05:51:20.514080Z",
          "iopub.status.idle": "2024-09-24T05:51:20.551245Z",
          "shell.execute_reply.started": "2024-09-24T05:51:20.514031Z",
          "shell.execute_reply": "2024-09-24T05:51:20.550215Z"
        },
        "trusted": true,
        "id": "SC5MdEYX-tqc"
      },
      "execution_count": null,
      "outputs": []
    },
    {
      "cell_type": "code",
      "source": [
        "# Train-test split (80-20)\n",
        "X_train, X_test, y_train, y_test = train_test_split(\n",
        "    train_data['Lyrics'],\n",
        "    train_data['Genre'],\n",
        "    test_size=0.2,\n",
        "    random_state=42,\n",
        "    stratify=train_data['Genre']\n",
        ")"
      ],
      "metadata": {
        "execution": {
          "iopub.status.busy": "2024-09-24T05:51:22.957222Z",
          "iopub.execute_input": "2024-09-24T05:51:22.957975Z",
          "iopub.status.idle": "2024-09-24T05:51:23.025036Z",
          "shell.execute_reply.started": "2024-09-24T05:51:22.957935Z",
          "shell.execute_reply": "2024-09-24T05:51:23.024042Z"
        },
        "trusted": true,
        "id": "BuxMa7Nv-tqc"
      },
      "execution_count": null,
      "outputs": []
    },
    {
      "cell_type": "code",
      "source": [
        "# Tokenizer setup\n",
        "max_words_1 = 10000\n",
        "max_words_2 = 25000"
      ],
      "metadata": {
        "execution": {
          "iopub.status.busy": "2024-09-24T05:51:26.445253Z",
          "iopub.execute_input": "2024-09-24T05:51:26.445621Z",
          "iopub.status.idle": "2024-09-24T05:51:26.450016Z",
          "shell.execute_reply.started": "2024-09-24T05:51:26.445588Z",
          "shell.execute_reply": "2024-09-24T05:51:26.448974Z"
        },
        "trusted": true,
        "id": "W0sFTf15-tqc"
      },
      "execution_count": null,
      "outputs": []
    },
    {
      "cell_type": "code",
      "source": [
        "# Prepare tokenizer for both model configurations\n",
        "tokenizer = Tokenizer(num_words=max_words_1)\n",
        "tokenizer.fit_on_texts(X_train)\n",
        "\n",
        "tokenizer_2 = Tokenizer(num_words=max_words_2)\n",
        "tokenizer_2.fit_on_texts(X_train)"
      ],
      "metadata": {
        "execution": {
          "iopub.status.busy": "2024-09-24T05:51:28.709386Z",
          "iopub.execute_input": "2024-09-24T05:51:28.710207Z",
          "iopub.status.idle": "2024-09-24T05:51:49.144458Z",
          "shell.execute_reply.started": "2024-09-24T05:51:28.710153Z",
          "shell.execute_reply": "2024-09-24T05:51:49.143434Z"
        },
        "trusted": true,
        "id": "ds4rajQ0-tqc"
      },
      "execution_count": null,
      "outputs": []
    },
    {
      "cell_type": "code",
      "source": [
        "# Convert texts to sequences\n",
        "X_train_seq_1 = tokenizer.texts_to_sequences(X_train)\n",
        "X_train_seq_2 = tokenizer_2.texts_to_sequences(X_train)"
      ],
      "metadata": {
        "execution": {
          "iopub.status.busy": "2024-09-24T05:52:06.101434Z",
          "iopub.execute_input": "2024-09-24T05:52:06.101875Z",
          "iopub.status.idle": "2024-09-24T05:52:22.999672Z",
          "shell.execute_reply.started": "2024-09-24T05:52:06.101837Z",
          "shell.execute_reply": "2024-09-24T05:52:22.998821Z"
        },
        "trusted": true,
        "id": "LgWGVfEi-tqc"
      },
      "execution_count": null,
      "outputs": []
    },
    {
      "cell_type": "code",
      "source": [
        "# Find the maximum sequence length for padding\n",
        "max_sequence_length_1 = max([len(seq) for seq in X_train_seq_1])\n",
        "max_sequence_length_2 = max([len(seq) for seq in X_train_seq_2])"
      ],
      "metadata": {
        "execution": {
          "iopub.status.busy": "2024-09-24T05:52:50.912487Z",
          "iopub.execute_input": "2024-09-24T05:52:50.912884Z",
          "iopub.status.idle": "2024-09-24T05:52:50.946908Z",
          "shell.execute_reply.started": "2024-09-24T05:52:50.912847Z",
          "shell.execute_reply": "2024-09-24T05:52:50.945944Z"
        },
        "trusted": true,
        "id": "-IFBlzSg-tqc"
      },
      "execution_count": null,
      "outputs": []
    },
    {
      "cell_type": "code",
      "source": [
        "print(\"Max sequence length 1: \",max_sequence_length_1)\n",
        "print(\"Max sequence length 2: \",max_sequence_length_2)"
      ],
      "metadata": {
        "execution": {
          "iopub.status.busy": "2024-09-24T05:52:54.416901Z",
          "iopub.execute_input": "2024-09-24T05:52:54.417374Z",
          "iopub.status.idle": "2024-09-24T05:52:54.422603Z",
          "shell.execute_reply.started": "2024-09-24T05:52:54.417328Z",
          "shell.execute_reply": "2024-09-24T05:52:54.421478Z"
        },
        "trusted": true,
        "id": "PIUW49-N-tqc",
        "outputId": "f2885c31-8e21-4ded-917c-76307e943cf9"
      },
      "execution_count": null,
      "outputs": [
        {
          "name": "stdout",
          "text": "Max sequence length 1:  1660\nMax sequence length 2:  1717\n",
          "output_type": "stream"
        }
      ]
    },
    {
      "cell_type": "code",
      "source": [
        "# Pad sequences for both model configurations\n",
        "X_train_pad_1 = pad_sequences(X_train_seq_1, maxlen=max_sequence_length_1)\n",
        "X_train_pad_2 = pad_sequences(X_train_seq_2, maxlen=max_sequence_length_2)"
      ],
      "metadata": {
        "execution": {
          "iopub.status.busy": "2024-09-24T05:52:57.864316Z",
          "iopub.execute_input": "2024-09-24T05:52:57.864699Z",
          "iopub.status.idle": "2024-09-24T05:53:00.636626Z",
          "shell.execute_reply.started": "2024-09-24T05:52:57.864663Z",
          "shell.execute_reply": "2024-09-24T05:53:00.635719Z"
        },
        "trusted": true,
        "id": "lius0ozs-tqc"
      },
      "execution_count": null,
      "outputs": []
    },
    {
      "cell_type": "code",
      "source": [
        "# Function to create model with variable parameters\n",
        "def create_model(max_sequence_length, embedding_dim, max_words, lstm_units, num_layers=1):\n",
        "    model = Sequential()\n",
        "    model.add(Embedding(max_words, embedding_dim, input_length=max_sequence_length))\n",
        "    for _ in range(num_layers - 1):\n",
        "        model.add(LSTM(lstm_units, return_sequences=True))\n",
        "    model.add(LSTM(lstm_units, return_sequences=False))\n",
        "    model.add(Dense(5, activation='softmax'))  # 5 genres\n",
        "    model.compile(loss='sparse_categorical_crossentropy', optimizer='adam', metrics=['accuracy'])\n",
        "    return model"
      ],
      "metadata": {
        "execution": {
          "iopub.status.busy": "2024-09-24T05:53:02.080194Z",
          "iopub.execute_input": "2024-09-24T05:53:02.080604Z",
          "iopub.status.idle": "2024-09-24T05:53:02.087657Z",
          "shell.execute_reply.started": "2024-09-24T05:53:02.080565Z",
          "shell.execute_reply": "2024-09-24T05:53:02.086435Z"
        },
        "trusted": true,
        "id": "VNeoWKsB-tqc"
      },
      "execution_count": null,
      "outputs": []
    },
    {
      "cell_type": "code",
      "source": [
        "# Function to train model\n",
        "def train_model(model, X_train_pad, y_train, batch_size):\n",
        "    model.fit(X_train_pad, y_train, batch_size=batch_size, epochs=10)"
      ],
      "metadata": {
        "execution": {
          "iopub.status.busy": "2024-09-24T05:53:11.572217Z",
          "iopub.execute_input": "2024-09-24T05:53:11.573067Z",
          "iopub.status.idle": "2024-09-24T05:53:11.577361Z",
          "shell.execute_reply.started": "2024-09-24T05:53:11.573017Z",
          "shell.execute_reply": "2024-09-24T05:53:11.576418Z"
        },
        "trusted": true,
        "id": "TzuwAkiY-tqc"
      },
      "execution_count": null,
      "outputs": []
    },
    {
      "cell_type": "code",
      "source": [
        "# Function to evaluate model\n",
        "def evaluate_model(model, X_val_pad, y_val):\n",
        "    y_pred = np.argmax(model.predict(X_val_pad), axis=1)\n",
        "    print(classification_report(y_val, y_pred, target_names=label_encoder.classes_))\n",
        "    cm = confusion_matrix(y_val, y_pred)\n",
        "    plt.figure(figsize=(10, 7))\n",
        "    sns.heatmap(cm, annot=True, fmt='d', cmap='Blues', xticklabels=label_encoder.classes_, yticklabels=label_encoder.classes_)\n",
        "    plt.xlabel('Predicted')\n",
        "    plt.ylabel('Actual')\n",
        "    plt.show()"
      ],
      "metadata": {
        "execution": {
          "iopub.status.busy": "2024-09-24T05:53:15.112323Z",
          "iopub.execute_input": "2024-09-24T05:53:15.113201Z",
          "iopub.status.idle": "2024-09-24T05:53:15.119645Z",
          "shell.execute_reply.started": "2024-09-24T05:53:15.113161Z",
          "shell.execute_reply": "2024-09-24T05:53:15.118627Z"
        },
        "trusted": true,
        "id": "O1aO2akT-tqd"
      },
      "execution_count": null,
      "outputs": []
    },
    {
      "cell_type": "code",
      "source": [
        "# First set of parameters (single-layer LSTM)\n",
        "batch_size_1 = 4\n",
        "embedding_dim_1 = 10\n",
        "lstm_units_1 = 8\n",
        "\n",
        "# Create and train the first model\n",
        "model_1 = create_model(\n",
        "    max_sequence_length=max_sequence_length_1,\n",
        "    embedding_dim=embedding_dim_1,\n",
        "    max_words=max_words_1,\n",
        "    lstm_units=lstm_units_1,\n",
        "    num_layers=1\n",
        ")\n",
        "\n",
        "train_model(model_1, X_train_pad_1, y_train, batch_size=batch_size_1)"
      ],
      "metadata": {
        "execution": {
          "iopub.status.busy": "2024-09-24T05:53:17.904347Z",
          "iopub.execute_input": "2024-09-24T05:53:17.904752Z",
          "iopub.status.idle": "2024-09-24T09:00:27.139141Z",
          "shell.execute_reply.started": "2024-09-24T05:53:17.904714Z",
          "shell.execute_reply": "2024-09-24T09:00:27.137930Z"
        },
        "trusted": true,
        "id": "9ZFcP3iF-tqd",
        "outputId": "c106c2e8-0ec8-4784-be8f-1511d114fdbf"
      },
      "execution_count": null,
      "outputs": [
        {
          "name": "stderr",
          "text": "/opt/conda/lib/python3.10/site-packages/keras/src/layers/core/embedding.py:90: UserWarning: Argument `input_length` is deprecated. Just remove it.\n  warnings.warn(\n",
          "output_type": "stream"
        },
        {
          "name": "stdout",
          "text": "Epoch 1/10\n\u001b[1m28744/28744\u001b[0m \u001b[32m━━━━━━━━━━━━━━━━━━━━\u001b[0m\u001b[37m\u001b[0m \u001b[1m1128s\u001b[0m 39ms/step - accuracy: 0.7655 - loss: 0.7163\nEpoch 2/10\n\u001b[1m28744/28744\u001b[0m \u001b[32m━━━━━━━━━━━━━━━━━━━━\u001b[0m\u001b[37m\u001b[0m \u001b[1m1123s\u001b[0m 39ms/step - accuracy: 0.8274 - loss: 0.5218\nEpoch 3/10\n\u001b[1m28744/28744\u001b[0m \u001b[32m━━━━━━━━━━━━━━━━━━━━\u001b[0m\u001b[37m\u001b[0m \u001b[1m1123s\u001b[0m 39ms/step - accuracy: 0.8457 - loss: 0.4688\nEpoch 4/10\n\u001b[1m28744/28744\u001b[0m \u001b[32m━━━━━━━━━━━━━━━━━━━━\u001b[0m\u001b[37m\u001b[0m \u001b[1m1119s\u001b[0m 39ms/step - accuracy: 0.8542 - loss: 0.4412\nEpoch 5/10\n\u001b[1m28744/28744\u001b[0m \u001b[32m━━━━━━━━━━━━━━━━━━━━\u001b[0m\u001b[37m\u001b[0m \u001b[1m1125s\u001b[0m 39ms/step - accuracy: 0.8655 - loss: 0.4134\nEpoch 6/10\n\u001b[1m28744/28744\u001b[0m \u001b[32m━━━━━━━━━━━━━━━━━━━━\u001b[0m\u001b[37m\u001b[0m \u001b[1m1128s\u001b[0m 39ms/step - accuracy: 0.8722 - loss: 0.3927\nEpoch 7/10\n\u001b[1m28744/28744\u001b[0m \u001b[32m━━━━━━━━━━━━━━━━━━━━\u001b[0m\u001b[37m\u001b[0m \u001b[1m1122s\u001b[0m 39ms/step - accuracy: 0.8795 - loss: 0.3751\nEpoch 8/10\n\u001b[1m28744/28744\u001b[0m \u001b[32m━━━━━━━━━━━━━━━━━━━━\u001b[0m\u001b[37m\u001b[0m \u001b[1m1120s\u001b[0m 39ms/step - accuracy: 0.8866 - loss: 0.3556\nEpoch 9/10\n\u001b[1m28744/28744\u001b[0m \u001b[32m━━━━━━━━━━━━━━━━━━━━\u001b[0m\u001b[37m\u001b[0m \u001b[1m1120s\u001b[0m 39ms/step - accuracy: 0.8925 - loss: 0.3416\nEpoch 10/10\n\u001b[1m28744/28744\u001b[0m \u001b[32m━━━━━━━━━━━━━━━━━━━━\u001b[0m\u001b[37m\u001b[0m \u001b[1m1121s\u001b[0m 39ms/step - accuracy: 0.8962 - loss: 0.3278\n",
          "output_type": "stream"
        }
      ]
    },
    {
      "cell_type": "code",
      "source": [
        "# Evaluate the first model\n",
        "print(\"Evaluation of Model 1 on Test Data:\")\n",
        "X_test_seq_1 = tokenizer.texts_to_sequences(X_test)\n",
        "X_test_pad_1 = pad_sequences(X_test_seq_1, maxlen=max_sequence_length_1)\n",
        "evaluate_model(model_1, X_test_pad_1, y_test)"
      ],
      "metadata": {
        "execution": {
          "iopub.status.busy": "2024-09-24T09:00:52.143839Z",
          "iopub.execute_input": "2024-09-24T09:00:52.144715Z",
          "iopub.status.idle": "2024-09-24T09:01:12.661322Z",
          "shell.execute_reply.started": "2024-09-24T09:00:52.144672Z",
          "shell.execute_reply": "2024-09-24T09:01:12.660342Z"
        },
        "trusted": true,
        "id": "v4b8Pztu-tqd",
        "outputId": "a2567573-9505-4c44-93ef-392ae93f3589"
      },
      "execution_count": null,
      "outputs": [
        {
          "name": "stdout",
          "text": "Evaluation of Model 1 on Test Data:\n\u001b[1m899/899\u001b[0m \u001b[32m━━━━━━━━━━━━━━━━━━━━\u001b[0m\u001b[37m\u001b[0m \u001b[1m17s\u001b[0m 19ms/step\n              precision    recall  f1-score   support\n\n     Country       0.00      0.00      0.00       378\n      HipHop       0.59      0.53      0.56       447\n        Jazz       0.71      0.56      0.62      2663\n       Metal       0.70      0.52      0.60      3827\n        Rock       0.85      0.93      0.89     21429\n\n    accuracy                           0.82     28744\n   macro avg       0.57      0.51      0.54     28744\nweighted avg       0.80      0.82      0.81     28744\n\n",
          "output_type": "stream"
        },
        {
          "output_type": "display_data",
          "data": {
            "text/plain": "<Figure size 1000x700 with 2 Axes>",
            "image/png": "[encoded data removed]"
          },
          "metadata": {}
        }
      ]
    },
    {
      "cell_type": "code",
      "source": [
        "# Second set of parameters (two-layer LSTM)\n",
        "batch_size_2 = 8\n",
        "embedding_dim_2 = 30\n",
        "lstm_units_2 = 16\n",
        "\n",
        "# Create and train the second model\n",
        "model_2 = create_model(\n",
        "    max_sequence_length=max_sequence_length_2,\n",
        "    embedding_dim=embedding_dim_2,\n",
        "    max_words=max_words_2,\n",
        "    lstm_units=lstm_units_2,\n",
        "    num_layers=2\n",
        ")\n",
        "\n",
        "train_model(model_2, X_train_pad_2, y_train, batch_size=batch_size_2)"
      ],
      "metadata": {
        "execution": {
          "iopub.status.busy": "2024-09-24T09:01:27.781410Z",
          "iopub.execute_input": "2024-09-24T09:01:27.781785Z",
          "iopub.status.idle": "2024-09-24T12:08:18.246761Z",
          "shell.execute_reply.started": "2024-09-24T09:01:27.781748Z",
          "shell.execute_reply": "2024-09-24T12:08:18.245683Z"
        },
        "trusted": true,
        "id": "1vBgsKU6-tqd",
        "outputId": "42df9afe-3c40-4046-c858-1c927908b481"
      },
      "execution_count": null,
      "outputs": [
        {
          "name": "stderr",
          "text": "/opt/conda/lib/python3.10/site-packages/keras/src/layers/core/embedding.py:90: UserWarning: Argument `input_length` is deprecated. Just remove it.\n  warnings.warn(\n",
          "output_type": "stream"
        },
        {
          "name": "stdout",
          "text": "Epoch 1/10\n\u001b[1m14372/14372\u001b[0m \u001b[32m━━━━━━━━━━━━━━━━━━━━\u001b[0m\u001b[37m\u001b[0m \u001b[1m1119s\u001b[0m 78ms/step - accuracy: 0.7626 - loss: 0.7302\nEpoch 2/10\n\u001b[1m14372/14372\u001b[0m \u001b[32m━━━━━━━━━━━━━━━━━━━━\u001b[0m\u001b[37m\u001b[0m \u001b[1m1116s\u001b[0m 78ms/step - accuracy: 0.8326 - loss: 0.5100\nEpoch 3/10\n\u001b[1m14372/14372\u001b[0m \u001b[32m━━━━━━━━━━━━━━━━━━━━\u001b[0m\u001b[37m\u001b[0m \u001b[1m1114s\u001b[0m 78ms/step - accuracy: 0.8574 - loss: 0.4436\nEpoch 4/10\n\u001b[1m14372/14372\u001b[0m \u001b[32m━━━━━━━━━━━━━━━━━━━━\u001b[0m\u001b[37m\u001b[0m \u001b[1m1117s\u001b[0m 78ms/step - accuracy: 0.8802 - loss: 0.3766\nEpoch 5/10\n\u001b[1m14372/14372\u001b[0m \u001b[32m━━━━━━━━━━━━━━━━━━━━\u001b[0m\u001b[37m\u001b[0m \u001b[1m1116s\u001b[0m 78ms/step - accuracy: 0.8958 - loss: 0.3237\nEpoch 6/10\n\u001b[1m14372/14372\u001b[0m \u001b[32m━━━━━━━━━━━━━━━━━━━━\u001b[0m\u001b[37m\u001b[0m \u001b[1m1164s\u001b[0m 78ms/step - accuracy: 0.9115 - loss: 0.2765\nEpoch 7/10\n\u001b[1m14372/14372\u001b[0m \u001b[32m━━━━━━━━━━━━━━━━━━━━\u001b[0m\u001b[37m\u001b[0m \u001b[1m1116s\u001b[0m 78ms/step - accuracy: 0.9234 - loss: 0.2376\nEpoch 8/10\n\u001b[1m14372/14372\u001b[0m \u001b[32m━━━━━━━━━━━━━━━━━━━━\u001b[0m\u001b[37m\u001b[0m \u001b[1m1116s\u001b[0m 78ms/step - accuracy: 0.9327 - loss: 0.2070\nEpoch 9/10\n\u001b[1m14372/14372\u001b[0m \u001b[32m━━━━━━━━━━━━━━━━━━━━\u001b[0m\u001b[37m\u001b[0m \u001b[1m1116s\u001b[0m 78ms/step - accuracy: 0.9410 - loss: 0.1826\nEpoch 10/10\n\u001b[1m14372/14372\u001b[0m \u001b[32m━━━━━━━━━━━━━━━━━━━━\u001b[0m\u001b[37m\u001b[0m \u001b[1m1115s\u001b[0m 78ms/step - accuracy: 0.9481 - loss: 0.1598\n",
          "output_type": "stream"
        }
      ]
    },
    {
      "cell_type": "code",
      "source": [
        "# Evaluate the second model\n",
        "print(\"Evaluation of Model 2 on Test Data:\")\n",
        "X_test_seq_2 = tokenizer_2.texts_to_sequences(X_test)\n",
        "X_test_pad_2 = pad_sequences(X_test_seq_2, maxlen=max_sequence_length_2)\n",
        "evaluate_model(model_2, X_test_pad_2, y_test)"
      ],
      "metadata": {
        "execution": {
          "iopub.status.busy": "2024-09-24T12:10:59.772097Z",
          "iopub.execute_input": "2024-09-24T12:10:59.772496Z",
          "iopub.status.idle": "2024-09-24T12:11:36.127448Z",
          "shell.execute_reply.started": "2024-09-24T12:10:59.772457Z",
          "shell.execute_reply": "2024-09-24T12:11:36.126571Z"
        },
        "trusted": true,
        "id": "ipya7u0t-tqd",
        "outputId": "4a0f8761-5808-43b3-a0ed-901b3ae6e8b8"
      },
      "execution_count": null,
      "outputs": [
        {
          "name": "stdout",
          "text": "Evaluation of Model 2 on Test Data:\n\u001b[1m899/899\u001b[0m \u001b[32m━━━━━━━━━━━━━━━━━━━━\u001b[0m\u001b[37m\u001b[0m \u001b[1m33s\u001b[0m 36ms/step\n              precision    recall  f1-score   support\n\n     Country       0.08      0.05      0.06       378\n      HipHop       0.62      0.50      0.55       447\n        Jazz       0.64      0.67      0.65      2663\n       Metal       0.68      0.58      0.63      3827\n        Rock       0.87      0.90      0.89     21429\n\n    accuracy                           0.82     28744\n   macro avg       0.58      0.54      0.56     28744\nweighted avg       0.81      0.82      0.81     28744\n\n",
          "output_type": "stream"
        },
        {
          "output_type": "display_data",
          "data": {
            "text/plain": "<Figure size 1000x700 with 2 Axes>",
            "image/png": "[encoded data removed]"
          },
          "metadata": {}
        }
      ]
    },
    {
      "cell_type": "markdown",
      "source": [
        "**Conclusion:**\n",
        "Model 2 slightly improves in some areas (e.g., Metal, Jazz), showing a better balance between precision and recall across the classes. The improvements in macro-average metrics also suggest Model 2 handles underrepresented classes slightly better. Both models have comparable accuracy, but Model 1 shows some issues with the \"Country\" class, where performance is near zero, and Model 2 slightly mitigates this."
      ],
      "metadata": {
        "id": "EEuXyCfHAeHO"
      }
    }
  ]
}